{
 "cells": [
  {
   "cell_type": "code",
   "execution_count": null,
   "id": "d83621a0",
   "metadata": {},
   "outputs": [],
   "source": [
    "1. Write a Python Program to Check if a Number is Positive, Negative or Zero?\n",
    "\n",
    "ans:\n",
    "number = int(input(\"enter a number\"))\n",
    "if number > 0 :\n",
    "    print(\"positive number\")\n",
    "elif number < 0:\n",
    "    print(\"negative number\")\n",
    "elif number == 0:\n",
    "    print(\"number equals 0\")"
   ]
  },
  {
   "cell_type": "code",
   "execution_count": null,
   "id": "7b5e905d",
   "metadata": {},
   "outputs": [],
   "source": [
    "2. Write a Python Program to Check if a Number is Odd or Even?\n",
    "ans:\n",
    "number = int(input())\n",
    "if number%2 == 0:\n",
    "    print(\"its even\")\n",
    "else:\n",
    "    print(\"its odd\")"
   ]
  },
  {
   "cell_type": "code",
   "execution_count": null,
   "id": "38780d16",
   "metadata": {},
   "outputs": [],
   "source": [
    "3. Write a Python Program to Check Leap Year?\n",
    "ans:\n",
    "number = int(input())\n",
    "if number%4 == 0 and number% 100 != 0 or number %400 == 0 :\n",
    "    print(\"it is a leap year\")\n",
    "else:\n",
    "    print(\"it is not\")"
   ]
  },
  {
   "cell_type": "code",
   "execution_count": null,
   "id": "9f66535c",
   "metadata": {},
   "outputs": [],
   "source": [
    "4. Write a Python Program to Check Prime Number?\n",
    "\n",
    "ans:\n",
    "num = int(input())\n",
    "for i in range(2,num):\n",
    "    if num % i == 0:\n",
    "      print(\"it is not prime number\")\n",
    "      break\n",
    "    else:\n",
    "        print(\"it is prime number\")"
   ]
  },
  {
   "cell_type": "code",
   "execution_count": null,
   "id": "3579f49b",
   "metadata": {},
   "outputs": [],
   "source": [
    "5. Write a Python Program to Print all Prime Numbers in an Interval of 1-10000?\n",
    "ans:\n",
    "for number in range(1,10000):\n",
    "    for i in range(2,number):\n",
    "        if number % i == 0:\n",
    "          break\n",
    "    else:\n",
    "        print(number)\n",
    "\n"
   ]
  }
 ],
 "metadata": {
  "kernelspec": {
   "display_name": "Python 3 (ipykernel)",
   "language": "python",
   "name": "python3"
  },
  "language_info": {
   "codemirror_mode": {
    "name": "ipython",
    "version": 3
   },
   "file_extension": ".py",
   "mimetype": "text/x-python",
   "name": "python",
   "nbconvert_exporter": "python",
   "pygments_lexer": "ipython3",
   "version": "3.9.13"
  }
 },
 "nbformat": 4,
 "nbformat_minor": 5
}
