{
 "cells": [
  {
   "cell_type": "code",
   "execution_count": 3,
   "id": "ef5ab3a7",
   "metadata": {},
   "outputs": [
    {
     "name": "stdout",
     "output_type": "stream",
     "text": [
      "\"hello python\"\n"
     ]
    }
   ],
   "source": [
    "1.program to print \"helllo python\" \n",
    "    print('\\\"hello python\"')"
   ]
  },
  {
   "cell_type": "code",
   "execution_count": null,
   "id": "e7cb36bf",
   "metadata": {},
   "outputs": [],
   "source": [
    "2. Write a Python program to do arithmetical operations addition and division.?\n",
    "\n",
    "ans:\n",
    "    a=9\n",
    "    b=10\n",
    "    c = a+b\n",
    "    c1 = a/b\n",
    "    print(c)\n",
    "    print(c1)"
   ]
  },
  {
   "cell_type": "code",
   "execution_count": null,
   "id": "7a0b6deb",
   "metadata": {},
   "outputs": [],
   "source": [
    "3. Write a Python program to find the area of a triangle?\n",
    "\n",
    "ans:\n",
    "    b = 7\n",
    "    h = 8\n",
    "    area = b*h/2\n",
    "    print(area)"
   ]
  },
  {
   "cell_type": "code",
   "execution_count": null,
   "id": "e0cdb2ce",
   "metadata": {},
   "outputs": [],
   "source": [
    "4. Write a Python program to swap two variables?\n",
    "\n",
    "ans: \n",
    "    x =8\n",
    "    y = 9\n",
    "    x,y = y,x\n",
    "    print(x)\n",
    "    print(y)"
   ]
  },
  {
   "cell_type": "code",
   "execution_count": null,
   "id": "94209f76",
   "metadata": {},
   "outputs": [],
   "source": [
    "5. Write a Python program to generate a random number?\n",
    "\n",
    "ans:\n",
    "import random\n",
    "\n",
    "print(random.randrange(1,10))"
   ]
  }
 ],
 "metadata": {
  "kernelspec": {
   "display_name": "Python 3 (ipykernel)",
   "language": "python",
   "name": "python3"
  },
  "language_info": {
   "codemirror_mode": {
    "name": "ipython",
    "version": 3
   },
   "file_extension": ".py",
   "mimetype": "text/x-python",
   "name": "python",
   "nbconvert_exporter": "python",
   "pygments_lexer": "ipython3",
   "version": "3.9.13"
  }
 },
 "nbformat": 4,
 "nbformat_minor": 5
}
