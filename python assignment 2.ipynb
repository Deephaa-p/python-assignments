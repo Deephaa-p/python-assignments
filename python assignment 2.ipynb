{
 "cells": [
  {
   "cell_type": "code",
   "execution_count": null,
   "id": "cde0e634",
   "metadata": {},
   "outputs": [],
   "source": [
    "1.What are the two values of the Boolean data type? How do you write them?\n",
    "\n",
    "ans: The boolean values are True,False"
   ]
  },
  {
   "cell_type": "code",
   "execution_count": null,
   "id": "c0590d1f",
   "metadata": {},
   "outputs": [],
   "source": [
    "2. What are the three different types of Boolean operators?\n",
    "ans: and , or , not are the commonly used boolean operators."
   ]
  },
  {
   "cell_type": "code",
   "execution_count": null,
   "id": "6e42b739",
   "metadata": {},
   "outputs": [],
   "source": [
    "3. Make a list of each Boolean operators truth tables (i.e. every possible combination of Boolean\n",
    "values for the operator and what it evaluate ).\n",
    "\n",
    "ans:\n",
    "A         B     A or B\n",
    "True    True     True\n",
    "True    False    True\n",
    "False   True     True\n",
    "False   False    False\n",
    "\n",
    "A         B    A and B\n",
    "True    True    True\n",
    "True    False   False\n",
    "False   True    False\n",
    "False   False   False\n",
    "\n",
    "A     Not A\n",
    "True  False\n",
    "False True"
   ]
  },
  {
   "cell_type": "code",
   "execution_count": null,
   "id": "0a6bd1b4",
   "metadata": {},
   "outputs": [],
   "source": [
    "4. What are the values of the following expressions?\n",
    "\n",
    "(5 > 4) and (3 == 5)                    False\n",
    "not (5 > 4)                             False\n",
    "(5 >4) or (3 == 5)                      True\n",
    "not ((5 > 4) or (3 == 5))               False\n",
    "(True and True) and (True == False)     False\n",
    "(not False) or (not True)               True"
   ]
  },
  {
   "cell_type": "code",
   "execution_count": null,
   "id": "969ba40b",
   "metadata": {},
   "outputs": [],
   "source": [
    "5. What are the six comparison operators?\n",
    "ans: less than, greater than, less than or equal to, greater than or equal to, equal to, and not equal to."
   ]
  },
  {
   "cell_type": "code",
   "execution_count": null,
   "id": "0b1965e6",
   "metadata": {},
   "outputs": [],
   "source": [
    "6. How do you tell the difference between the equal to and assignment operators?Describe a\n",
    "condition and when you would use one.\n",
    "\n",
    "ans: = operator is used to assign some values to a variable example x = 3\n",
    "     == operator is used to evaluate whether both right and left elemrnt are equal to each other example 9==9"
   ]
  },
  {
   "cell_type": "code",
   "execution_count": null,
   "id": "0c212b52",
   "metadata": {},
   "outputs": [],
   "source": [
    "7. Identify the three blocks in this code:\n",
    "spam = 0\n",
    "if spam == 10:\n",
    "print('eggs')\n",
    "if spam > 5:\n",
    "print('bacon')\n",
    "else:\n",
    "print('ham')\n",
    "print('spam')\n",
    "print('spam')\n",
    "\n",
    "\n",
    "ans: if,if,else is the blocks"
   ]
  },
  {
   "cell_type": "code",
   "execution_count": null,
   "id": "23487880",
   "metadata": {},
   "outputs": [],
   "source": [
    "8. Write code that prints Hello if 1 is stored in spam, prints Howdy if 2 is stored in spam, and prints\n",
    "Greetings! if anything else is stored in spam.\n",
    "\n",
    "spam = int(input())\n",
    "if spam == 1:\n",
    "    print(\"hello\")\n",
    "elif spam == 2:\n",
    "    print(\"howdy\")\n",
    "else:\n",
    "    print(\"greetings!\")"
   ]
  },
  {
   "cell_type": "code",
   "execution_count": null,
   "id": "857dcfbe",
   "metadata": {},
   "outputs": [],
   "source": [
    "9.If your programme is stuck in an endless loop, what keys you’ll press?\n",
    "ans: can use ctrl+c or can use break , exit"
   ]
  },
  {
   "cell_type": "code",
   "execution_count": null,
   "id": "3dc7f56e",
   "metadata": {},
   "outputs": [],
   "source": [
    "10. How can you tell the difference between break and continue?\n",
    "\n",
    "ans: break - it helps to get out of the loop immediately once the statement becomes false\n",
    "     continue - this skips only the particular statement and iterates the next one"
   ]
  },
  {
   "cell_type": "code",
   "execution_count": null,
   "id": "7ec7d087",
   "metadata": {},
   "outputs": [],
   "source": [
    "11. In a for loop, what is the difference between range(10), range(0, 10), and range(0, 10, 1)?\n",
    "ans: range(10) prints the numbers from 0 to 9\n",
    "    range (0,10,1) prints numbers from 0 to 1 and skips by 1 index position"
   ]
  },
  {
   "cell_type": "code",
   "execution_count": null,
   "id": "9287a3a9",
   "metadata": {},
   "outputs": [],
   "source": [
    "12. Write a short program that prints the numbers 1 to 10 using a for loop. Then write an equivalent\n",
    "program that prints the numbers 1 to 10 using a while loop.\n",
    "\n",
    "ans: for i in range(0,11):\n",
    "     print(i)\n",
    "    \n",
    "ans:\n",
    "a = 1\n",
    "while a<= 10:\n",
    "    print(a)\n",
    "    a+=1"
   ]
  },
  {
   "cell_type": "code",
   "execution_count": null,
   "id": "3ef69ba0",
   "metadata": {},
   "outputs": [],
   "source": [
    "13. If you had a function named bacon() inside a module named spam, how would you call it after\n",
    "importing spam?\n",
    "\n",
    "ans: spam.bacon()"
   ]
  }
 ],
 "metadata": {
  "kernelspec": {
   "display_name": "Python 3 (ipykernel)",
   "language": "python",
   "name": "python3"
  },
  "language_info": {
   "codemirror_mode": {
    "name": "ipython",
    "version": 3
   },
   "file_extension": ".py",
   "mimetype": "text/x-python",
   "name": "python",
   "nbconvert_exporter": "python",
   "pygments_lexer": "ipython3",
   "version": "3.9.13"
  }
 },
 "nbformat": 4,
 "nbformat_minor": 5
}
