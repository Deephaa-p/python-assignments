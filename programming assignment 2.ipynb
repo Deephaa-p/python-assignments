{
 "cells": [
  {
   "cell_type": "code",
   "execution_count": null,
   "id": "bf97d63d",
   "metadata": {},
   "outputs": [],
   "source": [
    "1. Write a Python program to convert kilometers to miles?\n",
    "\n",
    "ans: kilometer = 2\n",
    "     miles = 2* 0.6213 \n",
    "     print(miles)"
   ]
  },
  {
   "cell_type": "code",
   "execution_count": null,
   "id": "ef55d7c1",
   "metadata": {},
   "outputs": [],
   "source": [
    "2. Write a Python program to convert Celsius to Fahrenheit?\n",
    " ans: celcius = 39\n",
    "      farenheit = (39*9/5)+32\n",
    "      print(farenheit)"
   ]
  },
  {
   "cell_type": "code",
   "execution_count": null,
   "id": "03c5ea85",
   "metadata": {},
   "outputs": [],
   "source": [
    "3. Write a Python program to display calendar?\n",
    "ans:\n",
    "import calendar   \n",
    "yy = 2012\n",
    "mm = 10\n",
    "print(calendar.month(yy, mm))"
   ]
  },
  {
   "cell_type": "code",
   "execution_count": null,
   "id": "aec1a3ee",
   "metadata": {},
   "outputs": [],
   "source": [
    "4. Write a Python program to solve quadratic equation?\n",
    "ans:\n",
    "import cmath  \n",
    "a = 10\n",
    "b = 41\n",
    "c = 2 \n",
    "dis = (b**2) - (4 * a*c)  \n",
    "ans1 = (-b-cmath.sqrt(dis))/(2 * a)\n",
    "ans2 = (-b + cmath.sqrt(dis))/(2 * a)\n",
    "print('The roots are')\n",
    "print(ans1)\n",
    "print(ans2)"
   ]
  },
  {
   "cell_type": "code",
   "execution_count": null,
   "id": "42ed363f",
   "metadata": {},
   "outputs": [],
   "source": [
    "5. Write a Python program to swap two variables without temp variable?\n",
    "ans: \n",
    "x = 9\n",
    "y = 8\n",
    "x,y =y,x\n",
    "print(x)\n",
    "print(y)"
   ]
  }
 ],
 "metadata": {
  "kernelspec": {
   "display_name": "Python 3 (ipykernel)",
   "language": "python",
   "name": "python3"
  },
  "language_info": {
   "codemirror_mode": {
    "name": "ipython",
    "version": 3
   },
   "file_extension": ".py",
   "mimetype": "text/x-python",
   "name": "python",
   "nbconvert_exporter": "python",
   "pygments_lexer": "ipython3",
   "version": "3.9.13"
  }
 },
 "nbformat": 4,
 "nbformat_minor": 5
}
