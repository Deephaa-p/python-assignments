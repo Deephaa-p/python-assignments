{
 "cells": [
  {
   "cell_type": "code",
   "execution_count": null,
   "id": "27e04af5",
   "metadata": {},
   "outputs": [],
   "source": [
    "1. In the below elements which of them are values or an expression? eg:- values can be\n",
    "integer or string and expressions will be mathematical operators.\n",
    "*\n",
    "'hello'\n",
    "-87.8\n",
    "-\n",
    "/\n",
    "+\n",
    "6\n"
   ]
  },
  {
   "cell_type": "code",
   "execution_count": null,
   "id": "882455a9",
   "metadata": {},
   "outputs": [],
   "source": [
    "ans: \n",
    "    values : -87.8,'hello',6\n",
    "    expression : -,/,+    "
   ]
  },
  {
   "cell_type": "code",
   "execution_count": null,
   "id": "8cdd1edc",
   "metadata": {},
   "outputs": [],
   "source": [
    "2. What is the difference between string and variable?\n",
    "\n",
    "ans:\n",
    "VARIABLE\n",
    "    variable is just like an container in which it holds elements and allocates memory space depending upon data type of the element.\n",
    "    It holds different kind of data type with it like integer,float,string,boolean.\n",
    "    Example: x = 55 here x is variable\n",
    "        \n",
    "STRING:\n",
    "    string is a collection of characters.\n",
    "    string is meant to be  a data type.\n",
    "    in which it is used to assign a variable.\n",
    "    It is always enclosed in quotes.\n",
    "    Example - 'hello'"
   ]
  },
  {
   "cell_type": "code",
   "execution_count": null,
   "id": "e2d5f9fe",
   "metadata": {},
   "outputs": [],
   "source": [
    "3. Describe three different data types\n",
    "ans: integer referred as int\n",
    "      float referred as float\n",
    "      string referred as str"
   ]
  },
  {
   "cell_type": "code",
   "execution_count": null,
   "id": "d00c5c0e",
   "metadata": {},
   "outputs": [],
   "source": [
    "4. What is an expression made up of? What do all expressions do?\n",
    "\n",
    "ans: expressions are made up of operators,literals,identifiers\n",
    "    operators: this performs mathematical operations like +,-,/\n",
    "    literals: this consists of constant values assigned to a variable .it is of different types like numeric,string,boolean example x = 88\n",
    "    indentifiers: they are like keywords example if,is,for,int   "
   ]
  },
  {
   "cell_type": "code",
   "execution_count": null,
   "id": "15ea4426",
   "metadata": {},
   "outputs": [],
   "source": [
    "5. This assignment statements, like spam = 10. What is the difference between an\n",
    "expression and a statement?\n",
    "\n",
    "ans: statement : it is set of instructions that has to be performed example: print()\n",
    "     expressions:expressions are made up of operators,literals,identifiers\n",
    "    operators: this performs mathematical operations like +,-,/\n",
    "    literals: this consists of constant values assigned to a variable .it is of different types like numeric,string,boolean example x = 88\n",
    "    indentifiers: they are like keywords example if,is,for,int   "
   ]
  },
  {
   "cell_type": "code",
   "execution_count": null,
   "id": "495c0014",
   "metadata": {},
   "outputs": [],
   "source": [
    "6. After running the following code, what does the variable bacon contain?\n",
    "bacon = 22\n",
    "bacon + 1\n",
    "\n",
    "ans:22"
   ]
  },
  {
   "cell_type": "code",
   "execution_count": null,
   "id": "b1fc57fd",
   "metadata": {},
   "outputs": [],
   "source": [
    "7. What should the values of the following two terms be?\n",
    "'spam' +'spamspam'\n",
    "'spam'* 3\n",
    "ans: spamspamspam\n",
    "    spamspamspam"
   ]
  },
  {
   "cell_type": "code",
   "execution_count": null,
   "id": "c895ce8c",
   "metadata": {},
   "outputs": [],
   "source": [
    "8. Why is eggs a valid variable name while 100 is invalid?\n",
    "ans: because variable name cannot begin with number"
   ]
  },
  {
   "cell_type": "code",
   "execution_count": null,
   "id": "280dd437",
   "metadata": {},
   "outputs": [],
   "source": [
    "9. What three functions can be used to get the integer, floating-point number, or string\n",
    "version of a value?\n",
    "ans: int()\n",
    "    float()\n",
    "    str()"
   ]
  },
  {
   "cell_type": "code",
   "execution_count": null,
   "id": "e7ef50ab",
   "metadata": {},
   "outputs": [],
   "source": [
    "10. Why does this expression cause an error? How can you fix it?\n",
    "'I have eaten'  + 99 + 'burritos.'\n",
    "ans : it is not possible to concatenate string with numeric data type\n",
    "    this can be fixed turning the statement as 'I have eaten'  + '99' + 'burritos.' or by using formatting string option "
   ]
  }
 ],
 "metadata": {
  "kernelspec": {
   "display_name": "Python 3 (ipykernel)",
   "language": "python",
   "name": "python3"
  },
  "language_info": {
   "codemirror_mode": {
    "name": "ipython",
    "version": 3
   },
   "file_extension": ".py",
   "mimetype": "text/x-python",
   "name": "python",
   "nbconvert_exporter": "python",
   "pygments_lexer": "ipython3",
   "version": "3.9.13"
  }
 },
 "nbformat": 4,
 "nbformat_minor": 5
}
